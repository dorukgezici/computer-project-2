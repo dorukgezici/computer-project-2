{
  "nbformat": 4,
  "nbformat_minor": 0,
  "metadata": {
    "colab": {
      "name": "computer-project-2.ipynb",
      "version": "0.3.2",
      "provenance": [],
      "include_colab_link": true
    },
    "kernelspec": {
      "name": "python3",
      "display_name": "Python 3"
    },
    "accelerator": "GPU"
  },
  "cells": [
    {
      "cell_type": "markdown",
      "metadata": {
        "id": "view-in-github",
        "colab_type": "text"
      },
      "source": [
        "<a href=\"https://colab.research.google.com/github/dorukgezici/computer-project-2/blob/master/computer_project_2.ipynb\" target=\"_parent\"><img src=\"https://colab.research.google.com/assets/colab-badge.svg\" alt=\"Open In Colab\"/></a>"
      ]
    },
    {
      "metadata": {
        "id": "ceYUWqKz0riU",
        "colab_type": "text"
      },
      "cell_type": "markdown",
      "source": [
        "Connect to Google Drive"
      ]
    },
    {
      "metadata": {
        "id": "_rv2Y8x0x-J9",
        "colab_type": "code",
        "colab": {}
      },
      "cell_type": "code",
      "source": [
        "from google.colab import drive\n",
        "drive.mount('/content/drive/')\n",
        "!pwd # /content/\n",
        "!ls \"/content/drive/My Drive/Colab Notebooks/\"\n"
      ],
      "execution_count": 0,
      "outputs": []
    },
    {
      "metadata": {
        "id": "7sgThYrd02rQ",
        "colab_type": "text"
      },
      "cell_type": "markdown",
      "source": [
        "Install requirements, download LFW dataset"
      ]
    },
    {
      "metadata": {
        "id": "3BsNtR3pyt1J",
        "colab_type": "code",
        "colab": {}
      },
      "cell_type": "code",
      "source": [
        "!pip install -r \"/content/drive/My Drive/Colab Notebooks/requirements.txt\" -q\n",
        "!wget \"http://vis-www.cs.umass.edu/lfw/lfw.tgz\"\n",
        "!mkdir -p \"datasets/lfw/raw\"\n",
        "!tar xvf \"lfw.tgz\" -C \"datasets/lfw/raw\" --strip-components=1"
      ],
      "execution_count": 0,
      "outputs": []
    },
    {
      "metadata": {
        "id": "sCtFgV215KVP",
        "colab_type": "text"
      },
      "cell_type": "markdown",
      "source": [
        "Download facenet repo, extract trained models"
      ]
    },
    {
      "metadata": {
        "id": "bBAHQ6ln40YH",
        "colab_type": "code",
        "colab": {}
      },
      "cell_type": "code",
      "source": [
        "!git clone \"https://github.com/davidsandberg/facenet\"\n",
        "import os\n",
        "os.environ['PYTHONPATH'] = \"/content/facenet/src\"\n",
        "!mkdir -p \"models/facenet\"\n",
        "!unzip \"/content/drive/My Drive/Colab Notebooks/20180402-114759.zip\" -d \"models/facenet\""
      ],
      "execution_count": 0,
      "outputs": []
    },
    {
      "metadata": {
        "id": "i659ZqWY5iMq",
        "colab_type": "text"
      },
      "cell_type": "markdown",
      "source": [
        "Align the LFW dataset"
      ]
    },
    {
      "metadata": {
        "id": "EQbIIdpZ1W7I",
        "colab_type": "code",
        "colab": {}
      },
      "cell_type": "code",
      "source": [
        "!for N in {1..4}; do \\\n",
        "python \"/content/facenet/src/align/align_dataset_mtcnn.py\" \\\n",
        "\"datasets/lfw/raw\" \\\n",
        "\"datasets/lfw/lfw_mtcnnpy_160\" \\\n",
        "--image_size 160 \\\n",
        "--margin 32 \\\n",
        "--random_order \\\n",
        "--gpu_memory_fraction 0.25 \\\n",
        "& done"
      ],
      "execution_count": 0,
      "outputs": []
    },
    {
      "metadata": {
        "id": "KJ65eK8z8h9B",
        "colab_type": "text"
      },
      "cell_type": "markdown",
      "source": [
        "Test!"
      ]
    },
    {
      "metadata": {
        "id": "6deCzqdIKlCt",
        "colab_type": "code",
        "colab": {}
      },
      "cell_type": "code",
      "source": [
        "import os\n",
        "os.chdir(\"/content/facenet\")"
      ],
      "execution_count": 0,
      "outputs": []
    },
    {
      "metadata": {
        "id": "jt2es6bP8klV",
        "colab_type": "code",
        "colab": {
          "base_uri": "https://localhost:8080/",
          "height": 296
        },
        "outputId": "0c397875-ac39-4a5c-cf95-e8632e07bcae"
      },
      "cell_type": "code",
      "source": [
        "!python \"/content/facenet/src/validate_on_lfw.py\" \\\n",
        "\"/content/datasets/lfw/lfw_mtcnnpy_160\" \\\n",
        "\"/content/drive/My Drive/Colab Notebooks/20180402-114759\" \\\n",
        "--distance_metric 1 \\\n",
        "--use_flipped_images \\\n",
        "--subtract_mean \\\n",
        "--use_fixed_image_standardization"
      ],
      "execution_count": 0,
      "outputs": [
        {
          "output_type": "stream",
          "text": [
            "2018-11-10 15:08:28.641752: I tensorflow/core/platform/cpu_feature_guard.cc:140] Your CPU supports instructions that this TensorFlow binary was not compiled to use: AVX2 FMA\n",
            "Model directory: /content/drive/My Drive/Colab Notebooks/20180402-114759\n",
            "Metagraph file: model-20180402-114759.meta\n",
            "Checkpoint file: model-20180402-114759.ckpt-275\n",
            "Runnning forward pass on LFW images\n",
            "......."
          ],
          "name": "stdout"
        }
      ]
    }
  ]
}